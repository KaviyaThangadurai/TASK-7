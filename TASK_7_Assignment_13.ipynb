{
  "nbformat": 4,
  "nbformat_minor": 0,
  "metadata": {
    "colab": {
      "name": "TASK 7-Assignment 13",
      "provenance": [],
      "include_colab_link": true
    },
    "kernelspec": {
      "name": "python3",
      "display_name": "Python 3"
    },
    "language_info": {
      "name": "python"
    }
  },
  "cells": [
    {
      "cell_type": "markdown",
      "metadata": {
        "id": "view-in-github",
        "colab_type": "text"
      },
      "source": [
        "<a href=\"https://colab.research.google.com/github/KaviyaThangadurai/TASK-7/blob/main/TASK_7_Assignment_13.ipynb\" target=\"_parent\"><img src=\"https://colab.research.google.com/assets/colab-badge.svg\" alt=\"Open In Colab\"/></a>"
      ]
    },
    {
      "cell_type": "code",
      "metadata": {
        "id": "JolSMtbOfmc9"
      },
      "source": [
        "#Social_Networks_Ads.csv"
      ],
      "execution_count": null,
      "outputs": []
    },
    {
      "cell_type": "markdown",
      "metadata": {
        "id": "h_3tQC1Kf0ut"
      },
      "source": [
        "**Importing the libraries**"
      ]
    },
    {
      "cell_type": "code",
      "metadata": {
        "id": "EObl2Z6IfyG4"
      },
      "source": [
        "import pandas as pd\n",
        "import numpy as np\n",
        "import matplotlib.pyplot as plt\n",
        "import seaborn as sns"
      ],
      "execution_count": null,
      "outputs": []
    },
    {
      "cell_type": "code",
      "metadata": {
        "id": "ULahHzTPfyJW"
      },
      "source": [
        ""
      ],
      "execution_count": null,
      "outputs": []
    },
    {
      "cell_type": "markdown",
      "metadata": {
        "id": "yxzr0NOWf73l"
      },
      "source": [
        "**Importing the dataset**"
      ]
    },
    {
      "cell_type": "code",
      "metadata": {
        "id": "nN9xC2r6fyMZ",
        "outputId": "bdc37b23-a5a4-4bb4-f420-b00640fa98d7",
        "colab": {
          "base_uri": "https://localhost:8080/",
          "height": 424
        }
      },
      "source": [
        "data = pd.read_csv('/content/Social_Network_Ads.csv')\n",
        "data"
      ],
      "execution_count": null,
      "outputs": [
        {
          "output_type": "execute_result",
          "data": {
            "text/plain": [
              "      User ID  Gender  Age  EstimatedSalary  Purchased\n",
              "0    15624510    Male   19            19000          0\n",
              "1    15810944    Male   35            20000          0\n",
              "2    15668575  Female   26            43000          0\n",
              "3    15603246  Female   27            57000          0\n",
              "4    15804002    Male   19            76000          0\n",
              "..        ...     ...  ...              ...        ...\n",
              "395  15691863  Female   46            41000          1\n",
              "396  15706071    Male   51            23000          1\n",
              "397  15654296  Female   50            20000          1\n",
              "398  15755018    Male   36            33000          0\n",
              "399  15594041  Female   49            36000          1\n",
              "\n",
              "[400 rows x 5 columns]"
            ],
            "text/html": [
              "\n",
              "  <div id=\"df-b9818829-7eb2-475e-b4d8-c4699b5c5927\">\n",
              "    <div class=\"colab-df-container\">\n",
              "      <div>\n",
              "<style scoped>\n",
              "    .dataframe tbody tr th:only-of-type {\n",
              "        vertical-align: middle;\n",
              "    }\n",
              "\n",
              "    .dataframe tbody tr th {\n",
              "        vertical-align: top;\n",
              "    }\n",
              "\n",
              "    .dataframe thead th {\n",
              "        text-align: right;\n",
              "    }\n",
              "</style>\n",
              "<table border=\"1\" class=\"dataframe\">\n",
              "  <thead>\n",
              "    <tr style=\"text-align: right;\">\n",
              "      <th></th>\n",
              "      <th>User ID</th>\n",
              "      <th>Gender</th>\n",
              "      <th>Age</th>\n",
              "      <th>EstimatedSalary</th>\n",
              "      <th>Purchased</th>\n",
              "    </tr>\n",
              "  </thead>\n",
              "  <tbody>\n",
              "    <tr>\n",
              "      <th>0</th>\n",
              "      <td>15624510</td>\n",
              "      <td>Male</td>\n",
              "      <td>19</td>\n",
              "      <td>19000</td>\n",
              "      <td>0</td>\n",
              "    </tr>\n",
              "    <tr>\n",
              "      <th>1</th>\n",
              "      <td>15810944</td>\n",
              "      <td>Male</td>\n",
              "      <td>35</td>\n",
              "      <td>20000</td>\n",
              "      <td>0</td>\n",
              "    </tr>\n",
              "    <tr>\n",
              "      <th>2</th>\n",
              "      <td>15668575</td>\n",
              "      <td>Female</td>\n",
              "      <td>26</td>\n",
              "      <td>43000</td>\n",
              "      <td>0</td>\n",
              "    </tr>\n",
              "    <tr>\n",
              "      <th>3</th>\n",
              "      <td>15603246</td>\n",
              "      <td>Female</td>\n",
              "      <td>27</td>\n",
              "      <td>57000</td>\n",
              "      <td>0</td>\n",
              "    </tr>\n",
              "    <tr>\n",
              "      <th>4</th>\n",
              "      <td>15804002</td>\n",
              "      <td>Male</td>\n",
              "      <td>19</td>\n",
              "      <td>76000</td>\n",
              "      <td>0</td>\n",
              "    </tr>\n",
              "    <tr>\n",
              "      <th>...</th>\n",
              "      <td>...</td>\n",
              "      <td>...</td>\n",
              "      <td>...</td>\n",
              "      <td>...</td>\n",
              "      <td>...</td>\n",
              "    </tr>\n",
              "    <tr>\n",
              "      <th>395</th>\n",
              "      <td>15691863</td>\n",
              "      <td>Female</td>\n",
              "      <td>46</td>\n",
              "      <td>41000</td>\n",
              "      <td>1</td>\n",
              "    </tr>\n",
              "    <tr>\n",
              "      <th>396</th>\n",
              "      <td>15706071</td>\n",
              "      <td>Male</td>\n",
              "      <td>51</td>\n",
              "      <td>23000</td>\n",
              "      <td>1</td>\n",
              "    </tr>\n",
              "    <tr>\n",
              "      <th>397</th>\n",
              "      <td>15654296</td>\n",
              "      <td>Female</td>\n",
              "      <td>50</td>\n",
              "      <td>20000</td>\n",
              "      <td>1</td>\n",
              "    </tr>\n",
              "    <tr>\n",
              "      <th>398</th>\n",
              "      <td>15755018</td>\n",
              "      <td>Male</td>\n",
              "      <td>36</td>\n",
              "      <td>33000</td>\n",
              "      <td>0</td>\n",
              "    </tr>\n",
              "    <tr>\n",
              "      <th>399</th>\n",
              "      <td>15594041</td>\n",
              "      <td>Female</td>\n",
              "      <td>49</td>\n",
              "      <td>36000</td>\n",
              "      <td>1</td>\n",
              "    </tr>\n",
              "  </tbody>\n",
              "</table>\n",
              "<p>400 rows × 5 columns</p>\n",
              "</div>\n",
              "      <button class=\"colab-df-convert\" onclick=\"convertToInteractive('df-b9818829-7eb2-475e-b4d8-c4699b5c5927')\"\n",
              "              title=\"Convert this dataframe to an interactive table.\"\n",
              "              style=\"display:none;\">\n",
              "        \n",
              "  <svg xmlns=\"http://www.w3.org/2000/svg\" height=\"24px\"viewBox=\"0 0 24 24\"\n",
              "       width=\"24px\">\n",
              "    <path d=\"M0 0h24v24H0V0z\" fill=\"none\"/>\n",
              "    <path d=\"M18.56 5.44l.94 2.06.94-2.06 2.06-.94-2.06-.94-.94-2.06-.94 2.06-2.06.94zm-11 1L8.5 8.5l.94-2.06 2.06-.94-2.06-.94L8.5 2.5l-.94 2.06-2.06.94zm10 10l.94 2.06.94-2.06 2.06-.94-2.06-.94-.94-2.06-.94 2.06-2.06.94z\"/><path d=\"M17.41 7.96l-1.37-1.37c-.4-.4-.92-.59-1.43-.59-.52 0-1.04.2-1.43.59L10.3 9.45l-7.72 7.72c-.78.78-.78 2.05 0 2.83L4 21.41c.39.39.9.59 1.41.59.51 0 1.02-.2 1.41-.59l7.78-7.78 2.81-2.81c.8-.78.8-2.07 0-2.86zM5.41 20L4 18.59l7.72-7.72 1.47 1.35L5.41 20z\"/>\n",
              "  </svg>\n",
              "      </button>\n",
              "      \n",
              "  <style>\n",
              "    .colab-df-container {\n",
              "      display:flex;\n",
              "      flex-wrap:wrap;\n",
              "      gap: 12px;\n",
              "    }\n",
              "\n",
              "    .colab-df-convert {\n",
              "      background-color: #E8F0FE;\n",
              "      border: none;\n",
              "      border-radius: 50%;\n",
              "      cursor: pointer;\n",
              "      display: none;\n",
              "      fill: #1967D2;\n",
              "      height: 32px;\n",
              "      padding: 0 0 0 0;\n",
              "      width: 32px;\n",
              "    }\n",
              "\n",
              "    .colab-df-convert:hover {\n",
              "      background-color: #E2EBFA;\n",
              "      box-shadow: 0px 1px 2px rgba(60, 64, 67, 0.3), 0px 1px 3px 1px rgba(60, 64, 67, 0.15);\n",
              "      fill: #174EA6;\n",
              "    }\n",
              "\n",
              "    [theme=dark] .colab-df-convert {\n",
              "      background-color: #3B4455;\n",
              "      fill: #D2E3FC;\n",
              "    }\n",
              "\n",
              "    [theme=dark] .colab-df-convert:hover {\n",
              "      background-color: #434B5C;\n",
              "      box-shadow: 0px 1px 3px 1px rgba(0, 0, 0, 0.15);\n",
              "      filter: drop-shadow(0px 1px 2px rgba(0, 0, 0, 0.3));\n",
              "      fill: #FFFFFF;\n",
              "    }\n",
              "  </style>\n",
              "\n",
              "      <script>\n",
              "        const buttonEl =\n",
              "          document.querySelector('#df-b9818829-7eb2-475e-b4d8-c4699b5c5927 button.colab-df-convert');\n",
              "        buttonEl.style.display =\n",
              "          google.colab.kernel.accessAllowed ? 'block' : 'none';\n",
              "\n",
              "        async function convertToInteractive(key) {\n",
              "          const element = document.querySelector('#df-b9818829-7eb2-475e-b4d8-c4699b5c5927');\n",
              "          const dataTable =\n",
              "            await google.colab.kernel.invokeFunction('convertToInteractive',\n",
              "                                                     [key], {});\n",
              "          if (!dataTable) return;\n",
              "\n",
              "          const docLinkHtml = 'Like what you see? Visit the ' +\n",
              "            '<a target=\"_blank\" href=https://colab.research.google.com/notebooks/data_table.ipynb>data table notebook</a>'\n",
              "            + ' to learn more about interactive tables.';\n",
              "          element.innerHTML = '';\n",
              "          dataTable['output_type'] = 'display_data';\n",
              "          await google.colab.output.renderOutput(dataTable, element);\n",
              "          const docLink = document.createElement('div');\n",
              "          docLink.innerHTML = docLinkHtml;\n",
              "          element.appendChild(docLink);\n",
              "        }\n",
              "      </script>\n",
              "    </div>\n",
              "  </div>\n",
              "  "
            ]
          },
          "metadata": {},
          "execution_count": 2
        }
      ]
    },
    {
      "cell_type": "code",
      "metadata": {
        "id": "Z9gpSZOVfyPX",
        "outputId": "d32d31da-d003-4f3b-88c5-1728d980c5b2",
        "colab": {
          "base_uri": "https://localhost:8080/",
          "height": 206
        }
      },
      "source": [
        "data.head()"
      ],
      "execution_count": null,
      "outputs": [
        {
          "output_type": "execute_result",
          "data": {
            "text/plain": [
              "    User ID  Gender  Age  EstimatedSalary  Purchased\n",
              "0  15624510    Male   19            19000          0\n",
              "1  15810944    Male   35            20000          0\n",
              "2  15668575  Female   26            43000          0\n",
              "3  15603246  Female   27            57000          0\n",
              "4  15804002    Male   19            76000          0"
            ],
            "text/html": [
              "\n",
              "  <div id=\"df-e1f7e8f1-0051-45bc-82aa-0b1285038b41\">\n",
              "    <div class=\"colab-df-container\">\n",
              "      <div>\n",
              "<style scoped>\n",
              "    .dataframe tbody tr th:only-of-type {\n",
              "        vertical-align: middle;\n",
              "    }\n",
              "\n",
              "    .dataframe tbody tr th {\n",
              "        vertical-align: top;\n",
              "    }\n",
              "\n",
              "    .dataframe thead th {\n",
              "        text-align: right;\n",
              "    }\n",
              "</style>\n",
              "<table border=\"1\" class=\"dataframe\">\n",
              "  <thead>\n",
              "    <tr style=\"text-align: right;\">\n",
              "      <th></th>\n",
              "      <th>User ID</th>\n",
              "      <th>Gender</th>\n",
              "      <th>Age</th>\n",
              "      <th>EstimatedSalary</th>\n",
              "      <th>Purchased</th>\n",
              "    </tr>\n",
              "  </thead>\n",
              "  <tbody>\n",
              "    <tr>\n",
              "      <th>0</th>\n",
              "      <td>15624510</td>\n",
              "      <td>Male</td>\n",
              "      <td>19</td>\n",
              "      <td>19000</td>\n",
              "      <td>0</td>\n",
              "    </tr>\n",
              "    <tr>\n",
              "      <th>1</th>\n",
              "      <td>15810944</td>\n",
              "      <td>Male</td>\n",
              "      <td>35</td>\n",
              "      <td>20000</td>\n",
              "      <td>0</td>\n",
              "    </tr>\n",
              "    <tr>\n",
              "      <th>2</th>\n",
              "      <td>15668575</td>\n",
              "      <td>Female</td>\n",
              "      <td>26</td>\n",
              "      <td>43000</td>\n",
              "      <td>0</td>\n",
              "    </tr>\n",
              "    <tr>\n",
              "      <th>3</th>\n",
              "      <td>15603246</td>\n",
              "      <td>Female</td>\n",
              "      <td>27</td>\n",
              "      <td>57000</td>\n",
              "      <td>0</td>\n",
              "    </tr>\n",
              "    <tr>\n",
              "      <th>4</th>\n",
              "      <td>15804002</td>\n",
              "      <td>Male</td>\n",
              "      <td>19</td>\n",
              "      <td>76000</td>\n",
              "      <td>0</td>\n",
              "    </tr>\n",
              "  </tbody>\n",
              "</table>\n",
              "</div>\n",
              "      <button class=\"colab-df-convert\" onclick=\"convertToInteractive('df-e1f7e8f1-0051-45bc-82aa-0b1285038b41')\"\n",
              "              title=\"Convert this dataframe to an interactive table.\"\n",
              "              style=\"display:none;\">\n",
              "        \n",
              "  <svg xmlns=\"http://www.w3.org/2000/svg\" height=\"24px\"viewBox=\"0 0 24 24\"\n",
              "       width=\"24px\">\n",
              "    <path d=\"M0 0h24v24H0V0z\" fill=\"none\"/>\n",
              "    <path d=\"M18.56 5.44l.94 2.06.94-2.06 2.06-.94-2.06-.94-.94-2.06-.94 2.06-2.06.94zm-11 1L8.5 8.5l.94-2.06 2.06-.94-2.06-.94L8.5 2.5l-.94 2.06-2.06.94zm10 10l.94 2.06.94-2.06 2.06-.94-2.06-.94-.94-2.06-.94 2.06-2.06.94z\"/><path d=\"M17.41 7.96l-1.37-1.37c-.4-.4-.92-.59-1.43-.59-.52 0-1.04.2-1.43.59L10.3 9.45l-7.72 7.72c-.78.78-.78 2.05 0 2.83L4 21.41c.39.39.9.59 1.41.59.51 0 1.02-.2 1.41-.59l7.78-7.78 2.81-2.81c.8-.78.8-2.07 0-2.86zM5.41 20L4 18.59l7.72-7.72 1.47 1.35L5.41 20z\"/>\n",
              "  </svg>\n",
              "      </button>\n",
              "      \n",
              "  <style>\n",
              "    .colab-df-container {\n",
              "      display:flex;\n",
              "      flex-wrap:wrap;\n",
              "      gap: 12px;\n",
              "    }\n",
              "\n",
              "    .colab-df-convert {\n",
              "      background-color: #E8F0FE;\n",
              "      border: none;\n",
              "      border-radius: 50%;\n",
              "      cursor: pointer;\n",
              "      display: none;\n",
              "      fill: #1967D2;\n",
              "      height: 32px;\n",
              "      padding: 0 0 0 0;\n",
              "      width: 32px;\n",
              "    }\n",
              "\n",
              "    .colab-df-convert:hover {\n",
              "      background-color: #E2EBFA;\n",
              "      box-shadow: 0px 1px 2px rgba(60, 64, 67, 0.3), 0px 1px 3px 1px rgba(60, 64, 67, 0.15);\n",
              "      fill: #174EA6;\n",
              "    }\n",
              "\n",
              "    [theme=dark] .colab-df-convert {\n",
              "      background-color: #3B4455;\n",
              "      fill: #D2E3FC;\n",
              "    }\n",
              "\n",
              "    [theme=dark] .colab-df-convert:hover {\n",
              "      background-color: #434B5C;\n",
              "      box-shadow: 0px 1px 3px 1px rgba(0, 0, 0, 0.15);\n",
              "      filter: drop-shadow(0px 1px 2px rgba(0, 0, 0, 0.3));\n",
              "      fill: #FFFFFF;\n",
              "    }\n",
              "  </style>\n",
              "\n",
              "      <script>\n",
              "        const buttonEl =\n",
              "          document.querySelector('#df-e1f7e8f1-0051-45bc-82aa-0b1285038b41 button.colab-df-convert');\n",
              "        buttonEl.style.display =\n",
              "          google.colab.kernel.accessAllowed ? 'block' : 'none';\n",
              "\n",
              "        async function convertToInteractive(key) {\n",
              "          const element = document.querySelector('#df-e1f7e8f1-0051-45bc-82aa-0b1285038b41');\n",
              "          const dataTable =\n",
              "            await google.colab.kernel.invokeFunction('convertToInteractive',\n",
              "                                                     [key], {});\n",
              "          if (!dataTable) return;\n",
              "\n",
              "          const docLinkHtml = 'Like what you see? Visit the ' +\n",
              "            '<a target=\"_blank\" href=https://colab.research.google.com/notebooks/data_table.ipynb>data table notebook</a>'\n",
              "            + ' to learn more about interactive tables.';\n",
              "          element.innerHTML = '';\n",
              "          dataTable['output_type'] = 'display_data';\n",
              "          await google.colab.output.renderOutput(dataTable, element);\n",
              "          const docLink = document.createElement('div');\n",
              "          docLink.innerHTML = docLinkHtml;\n",
              "          element.appendChild(docLink);\n",
              "        }\n",
              "      </script>\n",
              "    </div>\n",
              "  </div>\n",
              "  "
            ]
          },
          "metadata": {},
          "execution_count": 3
        }
      ]
    },
    {
      "cell_type": "markdown",
      "metadata": {
        "id": "_lrDXgjIgGJ3"
      },
      "source": [
        "**Splitting the dataset into the Training set and Test set**"
      ]
    },
    {
      "cell_type": "code",
      "metadata": {
        "id": "z2QWVTZUfyUB"
      },
      "source": [
        "X=data.iloc[:,2:4]\n",
        "y=data.iloc[:,-1].values"
      ],
      "execution_count": null,
      "outputs": []
    },
    {
      "cell_type": "code",
      "source": [
        "X.shape"
      ],
      "metadata": {
        "id": "fN0bXx_GIjRN",
        "outputId": "d85bb6ba-3cf4-4b06-c325-c2a64e253a03",
        "colab": {
          "base_uri": "https://localhost:8080/"
        }
      },
      "execution_count": null,
      "outputs": [
        {
          "output_type": "execute_result",
          "data": {
            "text/plain": [
              "(400, 2)"
            ]
          },
          "metadata": {},
          "execution_count": 5
        }
      ]
    },
    {
      "cell_type": "code",
      "source": [
        "y.shape"
      ],
      "metadata": {
        "id": "U1fU-MdGIkeM",
        "outputId": "feecf188-5c37-4dc9-eaa1-6cf32d661d3f",
        "colab": {
          "base_uri": "https://localhost:8080/"
        }
      },
      "execution_count": null,
      "outputs": [
        {
          "output_type": "execute_result",
          "data": {
            "text/plain": [
              "(400,)"
            ]
          },
          "metadata": {},
          "execution_count": 6
        }
      ]
    },
    {
      "cell_type": "code",
      "source": [
        "from sklearn.model_selection import train_test_split\n",
        "X_train,X_test,y_train,y_test=train_test_split(X,y,test_size=0.2)"
      ],
      "metadata": {
        "id": "d6fmF5ZlIndd"
      },
      "execution_count": null,
      "outputs": []
    },
    {
      "cell_type": "code",
      "source": [
        "X_train.shape"
      ],
      "metadata": {
        "id": "NqnbRsLxIrl0",
        "outputId": "0452fd6b-ec94-4aea-bf72-a769aca96a5d",
        "colab": {
          "base_uri": "https://localhost:8080/"
        }
      },
      "execution_count": null,
      "outputs": [
        {
          "output_type": "execute_result",
          "data": {
            "text/plain": [
              "(320, 2)"
            ]
          },
          "metadata": {},
          "execution_count": 8
        }
      ]
    },
    {
      "cell_type": "code",
      "source": [
        "X_test.shape"
      ],
      "metadata": {
        "id": "v6R5c1qkItDN",
        "outputId": "59f9628b-3abd-4dd2-e149-178bb3d55061",
        "colab": {
          "base_uri": "https://localhost:8080/"
        }
      },
      "execution_count": null,
      "outputs": [
        {
          "output_type": "execute_result",
          "data": {
            "text/plain": [
              "(80, 2)"
            ]
          },
          "metadata": {},
          "execution_count": 9
        }
      ]
    },
    {
      "cell_type": "markdown",
      "metadata": {
        "id": "XmzkAVfggNrD"
      },
      "source": [
        "**Feature Scaling**"
      ]
    },
    {
      "cell_type": "code",
      "metadata": {
        "id": "UZUJ4Xn4fyW6"
      },
      "source": [
        "from sklearn.preprocessing import StandardScaler\n",
        "scaler = StandardScaler()"
      ],
      "execution_count": null,
      "outputs": []
    },
    {
      "cell_type": "markdown",
      "metadata": {
        "id": "BWpz-G_KgaB5"
      },
      "source": [
        "**Fitting K-NN to the Training set**"
      ]
    },
    {
      "cell_type": "code",
      "metadata": {
        "id": "5Wo68lCqfyc6",
        "outputId": "cb9cbacb-0313-4738-d7bc-c1904d049cc8",
        "colab": {
          "base_uri": "https://localhost:8080/"
        }
      },
      "source": [
        "X_train = scaler.fit_transform(X_train)\n",
        "X_train"
      ],
      "execution_count": null,
      "outputs": [
        {
          "output_type": "execute_result",
          "data": {
            "text/plain": [
              "array([[-0.152629  ,  0.14054538],\n",
              "       [ 0.68946201, -0.7541732 ],\n",
              "       [ 0.12806801,  1.90015859],\n",
              "       [ 0.03450234,  0.02124957],\n",
              "       [-1.46254834, -0.45593368],\n",
              "       [ 0.78302768, -1.41030016],\n",
              "       [ 1.62511869,  1.63174301],\n",
              "       [ 0.03450234, -0.27698996],\n",
              "       [-1.64967968, -1.41030016],\n",
              "       [ 0.31519934,  0.05107352],\n",
              "       [-0.24619466, -0.30681391],\n",
              "       [-0.433326  , -0.87346901],\n",
              "       [-1.18185134,  0.28966514],\n",
              "       [ 0.12806801,  0.08089747],\n",
              "       [-1.55611401, -0.06822229],\n",
              "       [ 2.09294703, -0.84364506],\n",
              "       [ 1.90581569,  0.73702443],\n",
              "       [ 0.31519934, -0.7541732 ],\n",
              "       [-1.55611401, -1.61906783],\n",
              "       [ 1.43798735,  1.00544001],\n",
              "       [ 0.31519934, -0.21734206],\n",
              "       [-0.05906333,  0.05107352],\n",
              "       [ 0.87659335, -1.35065226],\n",
              "       [-0.714023  , -1.58924388],\n",
              "       [-0.62045733, -0.06822229],\n",
              "       [ 0.78302768, -1.14188459],\n",
              "       [-0.714023  ,  1.36332744],\n",
              "       [ 0.97015902,  0.76684838],\n",
              "       [-0.152629  , -0.21734206],\n",
              "       [-1.08828567, -0.54540554],\n",
              "       [-1.46254834, -0.21734206],\n",
              "       [-0.24619466, -1.41030016],\n",
              "       [-0.05906333, -1.11206064],\n",
              "       [-0.24619466, -0.36646182],\n",
              "       [-0.24619466,  0.14054538],\n",
              "       [ 1.43798735,  0.34931305],\n",
              "       [-0.80758867,  0.14054538],\n",
              "       [-0.52689167,  1.48262325],\n",
              "       [-0.80758867, -1.2611804 ],\n",
              "       [ 0.03450234, -0.57522949],\n",
              "       [ 0.78302768, -0.33663787],\n",
              "       [-0.24619466, -0.60505344],\n",
              "       [-0.24619466,  0.61772862],\n",
              "       [ 0.31519934, -0.54540554],\n",
              "       [-0.99472   ,  0.55808072],\n",
              "       [-1.83681101, -0.06822229],\n",
              "       [-0.433326  ,  1.27385558],\n",
              "       [-0.05906333,  0.28966514],\n",
              "       [-0.24619466,  0.08089747],\n",
              "       [ 0.22163368,  0.02124957],\n",
              "       [-0.24619466, -0.39628577],\n",
              "       [ 0.22163368,  0.23001724],\n",
              "       [ 0.87659335,  1.27385558],\n",
              "       [-0.714023  ,  0.49843281],\n",
              "       [ 1.06372468,  0.52825676],\n",
              "       [-1.08828567, -1.05241273],\n",
              "       [-1.36898267, -0.1278702 ],\n",
              "       [-0.52689167,  1.39315139],\n",
              "       [-1.08828567, -1.64889179],\n",
              "       [ 1.90581569, -0.96294087],\n",
              "       [-0.99472   , -1.58924388],\n",
              "       [ 0.40876501,  1.00544001],\n",
              "       [ 0.68946201, -1.32082831],\n",
              "       [-0.24619466, -1.49977202],\n",
              "       [-0.05906333,  0.11072142],\n",
              "       [ 0.22163368, -0.39628577],\n",
              "       [ 0.22163368, -0.15769415],\n",
              "       [ 0.40876501, -0.15769415],\n",
              "       [-1.18185134,  0.49843281],\n",
              "       [-0.90115434,  0.25984119],\n",
              "       [ 0.87659335, -1.20153249],\n",
              "       [ 0.59589635, -0.93311692],\n",
              "       [-0.90115434,  0.55808072],\n",
              "       [-0.152629  , -0.54540554],\n",
              "       [ 2.09294703, -0.84364506],\n",
              "       [ 0.87659335, -0.60505344],\n",
              "       [ 0.31519934, -0.33663787],\n",
              "       [ 1.06372468, -1.02258878],\n",
              "       [-1.36898267,  0.34931305],\n",
              "       [-0.24619466, -0.15769415],\n",
              "       [ 0.31519934,  0.05107352],\n",
              "       [ 0.50233068,  1.24403163],\n",
              "       [-0.152629  ,  0.85632024],\n",
              "       [ 1.62511869, -0.93311692],\n",
              "       [ 1.34442169,  2.0194544 ],\n",
              "       [-0.24619466, -0.78399716],\n",
              "       [ 0.22163368, -0.39628577],\n",
              "       [ 0.03450234,  0.02124957],\n",
              "       [ 0.68946201, -1.44012412],\n",
              "       [ 0.22163368,  1.09491186],\n",
              "       [-1.08828567,  0.40896095],\n",
              "       [-0.152629  , -0.48575763],\n",
              "       [-0.24619466, -0.6945253 ],\n",
              "       [-1.83681101,  0.46860886],\n",
              "       [ 0.40876501,  0.28966514],\n",
              "       [ 0.03450234, -0.33663787],\n",
              "       [ 1.43798735,  0.05107352],\n",
              "       [ 1.06372468,  0.46860886],\n",
              "       [ 0.40876501, -0.1875181 ],\n",
              "       [ 0.97015902,  1.4527993 ],\n",
              "       [ 1.34442169,  2.37734183],\n",
              "       [ 1.53155302,  1.12473582],\n",
              "       [-0.433326  , -0.57522949],\n",
              "       [-0.90115434,  0.40896095],\n",
              "       [-1.36898267, -1.49977202],\n",
              "       [ 0.03450234, -0.15769415],\n",
              "       [ 0.12806801, -0.84364506],\n",
              "       [-1.36898267, -0.21734206],\n",
              "       [-1.64967968, -0.63487739],\n",
              "       [ 0.40876501, -0.48575763],\n",
              "       [-0.714023  ,  0.55808072],\n",
              "       [-0.80758867, -0.81382111],\n",
              "       [-0.714023  , -0.24716601],\n",
              "       [-0.80758867, -0.6945253 ],\n",
              "       [-1.36898267, -0.66470135],\n",
              "       [-0.05906333,  0.14054538],\n",
              "       [ 0.03450234, -0.60505344],\n",
              "       [-0.52689167, -1.55941993],\n",
              "       [ 2.09294703,  1.12473582],\n",
              "       [-1.74324534, -1.32082831],\n",
              "       [ 0.22163368, -0.6945253 ],\n",
              "       [ 0.68946201,  1.81068673],\n",
              "       [-0.52689167,  0.88614419],\n",
              "       [ 1.62511869,  1.78086278],\n",
              "       [ 0.78302768, -0.87346901],\n",
              "       [-1.27541701,  0.40896095],\n",
              "       [ 0.40876501,  0.14054538],\n",
              "       [ 0.50233068,  1.75103882],\n",
              "       [ 0.97015902,  2.0194544 ],\n",
              "       [-0.433326  , -1.17170854],\n",
              "       [ 1.99938136, -1.23135645],\n",
              "       [ 0.03450234,  0.28966514],\n",
              "       [-0.52689167,  1.92998254],\n",
              "       [-0.24619466,  1.12473582],\n",
              "       [ 1.99938136,  0.379137  ],\n",
              "       [-0.99472   ,  0.76684838],\n",
              "       [-1.08828567,  0.31948909],\n",
              "       [ 0.87659335, -0.57522949],\n",
              "       [ 1.25085602,  1.90015859],\n",
              "       [-0.80758867,  0.379137  ],\n",
              "       [ 0.78302768,  0.76684838],\n",
              "       [ 0.31519934, -1.20153249],\n",
              "       [ 1.06372468,  0.55808072],\n",
              "       [ 0.40876501,  0.08089747],\n",
              "       [ 0.22163368,  0.14054538],\n",
              "       [-0.62045733, -0.36646182],\n",
              "       [-0.152629  , -0.30681391],\n",
              "       [ 0.12806801,  1.90015859],\n",
              "       [ 0.97015902, -1.20153249],\n",
              "       [-0.152629  , -1.11206064],\n",
              "       [ 0.12806801,  0.14054538],\n",
              "       [-0.24619466, -0.27698996],\n",
              "       [ 0.40876501,  2.34751788],\n",
              "       [-0.433326  ,  2.34751788],\n",
              "       [ 0.12806801, -0.27698996],\n",
              "       [-0.99472   ,  0.58790467],\n",
              "       [-1.74324534, -0.00857439],\n",
              "       [ 0.87659335, -0.81382111],\n",
              "       [-0.62045733, -1.64889179],\n",
              "       [-0.152629  ,  1.63174301],\n",
              "       [-0.05906333,  0.28966514],\n",
              "       [ 0.31519934, -0.30681391],\n",
              "       [-0.05906333,  0.67737653],\n",
              "       [ 0.78302768, -1.2611804 ],\n",
              "       [ 1.06372468,  2.10892626],\n",
              "       [ 0.97015902,  0.58790467],\n",
              "       [ 1.53155302, -1.32082831],\n",
              "       [-1.83681101, -0.78399716],\n",
              "       [-1.55611401,  0.52825676],\n",
              "       [ 1.53155302,  1.00544001],\n",
              "       [ 0.31519934,  0.05107352],\n",
              "       [ 1.34442169,  1.30367953],\n",
              "       [-0.24619466,  0.52825676],\n",
              "       [ 0.97015902, -0.87346901],\n",
              "       [ 0.22163368, -0.33663787],\n",
              "       [-0.90115434, -1.14188459],\n",
              "       [ 0.40876501,  0.58790467],\n",
              "       [ 0.78302768,  0.11072142],\n",
              "       [-1.64967968,  0.34931305],\n",
              "       [ 0.78302768,  0.34931305],\n",
              "       [ 0.03450234, -0.60505344],\n",
              "       [-1.27541701, -1.41030016],\n",
              "       [ 2.09294703,  0.9457921 ],\n",
              "       [-0.05906333,  0.02124957],\n",
              "       [ 0.87659335, -1.41030016],\n",
              "       [ 0.59589635,  2.04927835],\n",
              "       [-1.46254834, -1.29100435],\n",
              "       [-0.62045733,  0.17036933],\n",
              "       [-0.24619466,  2.28786997],\n",
              "       [ 0.12806801, -0.84364506],\n",
              "       [-1.18185134, -1.11206064],\n",
              "       [-1.08828567, -1.64889179],\n",
              "       [-0.433326  , -1.2611804 ],\n",
              "       [-1.18185134,  0.25984119],\n",
              "       [ 1.06372468, -0.15769415],\n",
              "       [ 0.50233068,  1.87033463],\n",
              "       [-0.90115434, -0.45593368],\n",
              "       [-1.74324534, -1.35065226],\n",
              "       [-0.24619466, -0.45593368],\n",
              "       [ 0.03450234,  1.24403163],\n",
              "       [-0.62045733,  1.42297534],\n",
              "       [ 1.81225002, -1.11206064],\n",
              "       [ 0.22163368, -0.27698996],\n",
              "       [ 0.40876501, -0.51558158],\n",
              "       [-1.27541701, -0.45593368],\n",
              "       [ 0.22163368,  0.14054538],\n",
              "       [-1.74324534,  0.4387849 ],\n",
              "       [ 0.31519934,  0.28966514],\n",
              "       [-1.18185134,  0.58790467],\n",
              "       [ 0.31519934,  0.49843281],\n",
              "       [ 1.81225002, -1.32082831],\n",
              "       [-0.33976033, -0.81382111],\n",
              "       [ 1.99938136,  0.52825676],\n",
              "       [ 0.97015902, -1.11206064],\n",
              "       [ 0.03450234, -0.45593368],\n",
              "       [-1.08828567,  0.28966514],\n",
              "       [ 0.97015902, -1.11206064],\n",
              "       [-0.05906333,  0.25984119],\n",
              "       [-0.05906333, -0.45593368],\n",
              "       [-1.83681101,  0.34931305],\n",
              "       [ 0.03450234,  1.27385558],\n",
              "       [ 0.12806801,  1.54227115],\n",
              "       [-0.80758867,  0.28966514],\n",
              "       [ 0.31519934,  0.02124957],\n",
              "       [-0.05906333,  0.20019328],\n",
              "       [-0.62045733, -1.08223668],\n",
              "       [ 0.78302768,  0.25984119],\n",
              "       [-1.46254834,  0.31948909],\n",
              "       [ 0.22163368,  2.13875021],\n",
              "       [-0.24619466, -0.96294087],\n",
              "       [ 1.43798735,  2.16857416],\n",
              "       [-0.05906333, -0.39628577],\n",
              "       [-0.433326  , -0.30681391],\n",
              "       [ 0.22163368, -0.39628577],\n",
              "       [-1.08828567,  1.42297534],\n",
              "       [ 0.97015902, -1.23135645],\n",
              "       [ 0.40876501,  0.25984119],\n",
              "       [ 0.78302768, -1.44012412],\n",
              "       [-1.74324534, -1.52959597],\n",
              "       [-0.24619466,  0.14054538],\n",
              "       [-0.24619466,  0.05107352],\n",
              "       [ 1.43798735, -1.08223668],\n",
              "       [ 0.97015902,  1.81068673],\n",
              "       [-1.64967968,  0.46860886],\n",
              "       [-0.99472   , -1.17170854],\n",
              "       [-0.90115434, -0.33663787],\n",
              "       [-0.05906333, -0.54540554],\n",
              "       [ 1.99938136, -0.84364506],\n",
              "       [-0.62045733,  0.55808072],\n",
              "       [-1.08828567, -0.81382111],\n",
              "       [-1.08828567,  0.28966514],\n",
              "       [ 1.53155302, -0.00857439],\n",
              "       [ 1.90581569,  0.91596815],\n",
              "       [-0.90115434,  0.4387849 ],\n",
              "       [-0.99472   , -0.48575763],\n",
              "       [ 1.34442169,  0.58790467],\n",
              "       [ 1.90581569, -1.41030016],\n",
              "       [ 1.81225002, -0.30681391],\n",
              "       [ 1.90581569,  2.19839811],\n",
              "       [-1.83681101, -0.54540554],\n",
              "       [-0.99472   ,  0.52825676],\n",
              "       [-1.74324534,  0.17036933],\n",
              "       [-0.99472   ,  0.40896095],\n",
              "       [-1.64967968,  0.34931305],\n",
              "       [ 0.22163368, -0.30681391],\n",
              "       [-0.33976033,  1.33350349],\n",
              "       [-1.18185134, -1.44012412],\n",
              "       [-1.27541701, -0.45593368],\n",
              "       [-0.05906333,  0.23001724],\n",
              "       [-1.55611401,  0.05107352],\n",
              "       [-0.24619466,  0.79667234],\n",
              "       [-0.152629  ,  1.66156697],\n",
              "       [-1.64967968,  0.11072142],\n",
              "       [ 1.99938136,  1.78086278],\n",
              "       [-1.74324534, -1.46994807],\n",
              "       [ 1.15729035, -1.02258878],\n",
              "       [ 2.09294703,  0.379137  ],\n",
              "       [ 1.15729035, -1.49977202],\n",
              "       [-0.05906333,  2.19839811],\n",
              "       [-0.24619466, -1.35065226],\n",
              "       [-0.24619466, -0.60505344],\n",
              "       [ 0.78302768,  1.39315139],\n",
              "       [-1.27541701, -0.36646182],\n",
              "       [ 0.31519934,  0.05107352],\n",
              "       [-0.99472   , -1.49977202],\n",
              "       [-0.90115434,  0.49843281],\n",
              "       [-0.90115434, -0.78399716],\n",
              "       [ 0.87659335,  1.03526396],\n",
              "       [ 1.99938136,  2.16857416],\n",
              "       [-0.62045733,  0.11072142],\n",
              "       [-0.433326  , -0.81382111],\n",
              "       [ 0.40876501, -0.00857439],\n",
              "       [-0.62045733, -1.55941993],\n",
              "       [ 1.81225002,  1.54227115],\n",
              "       [ 2.09294703, -0.72434925],\n",
              "       [-0.99472   ,  1.98963044],\n",
              "       [ 1.06372468, -1.2611804 ],\n",
              "       [-0.80758867,  2.31769392],\n",
              "       [-0.80758867,  0.379137  ],\n",
              "       [ 0.87659335, -1.49977202],\n",
              "       [ 0.78302768,  0.52825676],\n",
              "       [ 1.81225002,  0.11072142],\n",
              "       [-0.52689167,  1.39315139],\n",
              "       [-0.24619466, -0.33663787],\n",
              "       [-0.152629  ,  1.42297534],\n",
              "       [ 0.97015902,  2.10892626],\n",
              "       [-0.52689167, -1.55941993],\n",
              "       [ 0.12806801,  0.20019328],\n",
              "       [ 1.71868436, -0.30681391],\n",
              "       [ 0.68946201,  0.25984119],\n",
              "       [-1.27541701, -1.52959597],\n",
              "       [-0.80758867, -0.81382111],\n",
              "       [ 0.97015902, -1.05241273],\n",
              "       [-0.62045733,  0.02124957],\n",
              "       [-1.36898267, -1.2611804 ],\n",
              "       [-0.52689167,  0.46860886],\n",
              "       [ 1.34442169, -1.46994807],\n",
              "       [-0.80758867, -0.27698996],\n",
              "       [ 0.12806801,  0.02124957],\n",
              "       [ 0.12806801,  0.76684838]])"
            ]
          },
          "metadata": {},
          "execution_count": 13
        }
      ]
    },
    {
      "cell_type": "code",
      "source": [
        "np.sqrt(X_train.shape[0])"
      ],
      "metadata": {
        "id": "AcvgwJKHI7m7",
        "outputId": "2e2ba2ed-6d05-4f97-bf38-acd413ce3eec",
        "colab": {
          "base_uri": "https://localhost:8080/"
        }
      },
      "execution_count": null,
      "outputs": [
        {
          "output_type": "execute_result",
          "data": {
            "text/plain": [
              "17.88854381999832"
            ]
          },
          "metadata": {},
          "execution_count": 14
        }
      ]
    },
    {
      "cell_type": "code",
      "source": [
        "k = 17\n"
      ],
      "metadata": {
        "id": "qz3BLRRHJHNs"
      },
      "execution_count": null,
      "outputs": []
    },
    {
      "cell_type": "code",
      "source": [
        "from sklearn.neighbors import KNeighborsClassifier\n",
        "knn = KNeighborsClassifier(n_neighbors=k)"
      ],
      "metadata": {
        "id": "59wenTrCJIFN"
      },
      "execution_count": null,
      "outputs": []
    },
    {
      "cell_type": "code",
      "source": [
        "knn.fit(X_train,y_train)"
      ],
      "metadata": {
        "id": "fNgMmXfvJIO-",
        "outputId": "76d8d9fc-16d2-4161-d0a3-a1f431cb4716",
        "colab": {
          "base_uri": "https://localhost:8080/"
        }
      },
      "execution_count": null,
      "outputs": [
        {
          "output_type": "execute_result",
          "data": {
            "text/plain": [
              "KNeighborsClassifier(n_neighbors=17)"
            ]
          },
          "metadata": {},
          "execution_count": 19
        }
      ]
    },
    {
      "cell_type": "code",
      "source": [
        "y_pred = knn.predict(X_test)"
      ],
      "metadata": {
        "id": "NRjb6_nTJSu0",
        "outputId": "3304cdf0-0b1f-44f1-f140-6405af3cad6a",
        "colab": {
          "base_uri": "https://localhost:8080/"
        }
      },
      "execution_count": null,
      "outputs": [
        {
          "output_type": "stream",
          "name": "stderr",
          "text": [
            "/usr/local/lib/python3.7/dist-packages/sklearn/base.py:444: UserWarning: X has feature names, but KNeighborsClassifier was fitted without feature names\n",
            "  f\"X has feature names, but {self.__class__.__name__} was fitted without\"\n"
          ]
        }
      ]
    },
    {
      "cell_type": "code",
      "source": [
        "y_pred.shape"
      ],
      "metadata": {
        "id": "sr4cqfnxJVIk",
        "outputId": "0a0d35df-6800-4b8f-87aa-f64982c93505",
        "colab": {
          "base_uri": "https://localhost:8080/"
        }
      },
      "execution_count": null,
      "outputs": [
        {
          "output_type": "execute_result",
          "data": {
            "text/plain": [
              "(80,)"
            ]
          },
          "metadata": {},
          "execution_count": 21
        }
      ]
    },
    {
      "cell_type": "code",
      "source": [
        "y_test.shape"
      ],
      "metadata": {
        "id": "y4qNm3KTJSx2",
        "outputId": "5b458e25-7218-4699-f21c-1662dd2996f8",
        "colab": {
          "base_uri": "https://localhost:8080/"
        }
      },
      "execution_count": null,
      "outputs": [
        {
          "output_type": "execute_result",
          "data": {
            "text/plain": [
              "(80,)"
            ]
          },
          "metadata": {},
          "execution_count": 22
        }
      ]
    },
    {
      "cell_type": "markdown",
      "metadata": {
        "id": "GoGxoF-kgmlj"
      },
      "source": [
        "**Predicting the Test set results**"
      ]
    },
    {
      "cell_type": "code",
      "metadata": {
        "id": "aEOlRLkefye3",
        "outputId": "e46238ac-081d-4df1-cb64-88f682b2900a",
        "colab": {
          "base_uri": "https://localhost:8080/"
        }
      },
      "source": [
        "from sklearn.metrics import accuracy_score\n",
        "accuracy_score(y_test,y_pred)"
      ],
      "execution_count": null,
      "outputs": [
        {
          "output_type": "execute_result",
          "data": {
            "text/plain": [
              "0.375"
            ]
          },
          "metadata": {},
          "execution_count": 23
        }
      ]
    },
    {
      "cell_type": "markdown",
      "metadata": {
        "id": "cYfKp7MQgwX7"
      },
      "source": [
        "**Making the Confusion Matrix**"
      ]
    },
    {
      "cell_type": "code",
      "metadata": {
        "id": "zFhgq3Yufyh5",
        "outputId": "f525dc9f-369c-4be7-94e6-53a6769fd777",
        "colab": {
          "base_uri": "https://localhost:8080/"
        }
      },
      "source": [
        "from sklearn.metrics import confusion_matrix\n",
        "confusion_matrix(y_test,y_pred)"
      ],
      "execution_count": null,
      "outputs": [
        {
          "output_type": "execute_result",
          "data": {
            "text/plain": [
              "array([[ 0, 50],\n",
              "       [ 0, 30]])"
            ]
          },
          "metadata": {},
          "execution_count": 24
        }
      ]
    },
    {
      "cell_type": "code",
      "source": [
        "accuracy = []\n",
        "\n",
        "for i in range(1,26):\n",
        "    knn = KNeighborsClassifier(n_neighbors=i)\n",
        "    knn.fit(X_train,y_train)\n",
        "    accuracy.append(accuracy_score(y_test,knn.predict(X_test)))"
      ],
      "metadata": {
        "id": "t64dVDnbJeqE",
        "outputId": "b5737c13-88f7-4215-f2e2-f36775cc06c4",
        "colab": {
          "base_uri": "https://localhost:8080/"
        }
      },
      "execution_count": null,
      "outputs": [
        {
          "output_type": "stream",
          "name": "stderr",
          "text": [
            "/usr/local/lib/python3.7/dist-packages/sklearn/base.py:444: UserWarning: X has feature names, but KNeighborsClassifier was fitted without feature names\n",
            "  f\"X has feature names, but {self.__class__.__name__} was fitted without\"\n",
            "/usr/local/lib/python3.7/dist-packages/sklearn/base.py:444: UserWarning: X has feature names, but KNeighborsClassifier was fitted without feature names\n",
            "  f\"X has feature names, but {self.__class__.__name__} was fitted without\"\n",
            "/usr/local/lib/python3.7/dist-packages/sklearn/base.py:444: UserWarning: X has feature names, but KNeighborsClassifier was fitted without feature names\n",
            "  f\"X has feature names, but {self.__class__.__name__} was fitted without\"\n",
            "/usr/local/lib/python3.7/dist-packages/sklearn/base.py:444: UserWarning: X has feature names, but KNeighborsClassifier was fitted without feature names\n",
            "  f\"X has feature names, but {self.__class__.__name__} was fitted without\"\n",
            "/usr/local/lib/python3.7/dist-packages/sklearn/base.py:444: UserWarning: X has feature names, but KNeighborsClassifier was fitted without feature names\n",
            "  f\"X has feature names, but {self.__class__.__name__} was fitted without\"\n",
            "/usr/local/lib/python3.7/dist-packages/sklearn/base.py:444: UserWarning: X has feature names, but KNeighborsClassifier was fitted without feature names\n",
            "  f\"X has feature names, but {self.__class__.__name__} was fitted without\"\n",
            "/usr/local/lib/python3.7/dist-packages/sklearn/base.py:444: UserWarning: X has feature names, but KNeighborsClassifier was fitted without feature names\n",
            "  f\"X has feature names, but {self.__class__.__name__} was fitted without\"\n",
            "/usr/local/lib/python3.7/dist-packages/sklearn/base.py:444: UserWarning: X has feature names, but KNeighborsClassifier was fitted without feature names\n",
            "  f\"X has feature names, but {self.__class__.__name__} was fitted without\"\n",
            "/usr/local/lib/python3.7/dist-packages/sklearn/base.py:444: UserWarning: X has feature names, but KNeighborsClassifier was fitted without feature names\n",
            "  f\"X has feature names, but {self.__class__.__name__} was fitted without\"\n",
            "/usr/local/lib/python3.7/dist-packages/sklearn/base.py:444: UserWarning: X has feature names, but KNeighborsClassifier was fitted without feature names\n",
            "  f\"X has feature names, but {self.__class__.__name__} was fitted without\"\n",
            "/usr/local/lib/python3.7/dist-packages/sklearn/base.py:444: UserWarning: X has feature names, but KNeighborsClassifier was fitted without feature names\n",
            "  f\"X has feature names, but {self.__class__.__name__} was fitted without\"\n",
            "/usr/local/lib/python3.7/dist-packages/sklearn/base.py:444: UserWarning: X has feature names, but KNeighborsClassifier was fitted without feature names\n",
            "  f\"X has feature names, but {self.__class__.__name__} was fitted without\"\n",
            "/usr/local/lib/python3.7/dist-packages/sklearn/base.py:444: UserWarning: X has feature names, but KNeighborsClassifier was fitted without feature names\n",
            "  f\"X has feature names, but {self.__class__.__name__} was fitted without\"\n",
            "/usr/local/lib/python3.7/dist-packages/sklearn/base.py:444: UserWarning: X has feature names, but KNeighborsClassifier was fitted without feature names\n",
            "  f\"X has feature names, but {self.__class__.__name__} was fitted without\"\n",
            "/usr/local/lib/python3.7/dist-packages/sklearn/base.py:444: UserWarning: X has feature names, but KNeighborsClassifier was fitted without feature names\n",
            "  f\"X has feature names, but {self.__class__.__name__} was fitted without\"\n",
            "/usr/local/lib/python3.7/dist-packages/sklearn/base.py:444: UserWarning: X has feature names, but KNeighborsClassifier was fitted without feature names\n",
            "  f\"X has feature names, but {self.__class__.__name__} was fitted without\"\n",
            "/usr/local/lib/python3.7/dist-packages/sklearn/base.py:444: UserWarning: X has feature names, but KNeighborsClassifier was fitted without feature names\n",
            "  f\"X has feature names, but {self.__class__.__name__} was fitted without\"\n",
            "/usr/local/lib/python3.7/dist-packages/sklearn/base.py:444: UserWarning: X has feature names, but KNeighborsClassifier was fitted without feature names\n",
            "  f\"X has feature names, but {self.__class__.__name__} was fitted without\"\n",
            "/usr/local/lib/python3.7/dist-packages/sklearn/base.py:444: UserWarning: X has feature names, but KNeighborsClassifier was fitted without feature names\n",
            "  f\"X has feature names, but {self.__class__.__name__} was fitted without\"\n",
            "/usr/local/lib/python3.7/dist-packages/sklearn/base.py:444: UserWarning: X has feature names, but KNeighborsClassifier was fitted without feature names\n",
            "  f\"X has feature names, but {self.__class__.__name__} was fitted without\"\n",
            "/usr/local/lib/python3.7/dist-packages/sklearn/base.py:444: UserWarning: X has feature names, but KNeighborsClassifier was fitted without feature names\n",
            "  f\"X has feature names, but {self.__class__.__name__} was fitted without\"\n",
            "/usr/local/lib/python3.7/dist-packages/sklearn/base.py:444: UserWarning: X has feature names, but KNeighborsClassifier was fitted without feature names\n",
            "  f\"X has feature names, but {self.__class__.__name__} was fitted without\"\n",
            "/usr/local/lib/python3.7/dist-packages/sklearn/base.py:444: UserWarning: X has feature names, but KNeighborsClassifier was fitted without feature names\n",
            "  f\"X has feature names, but {self.__class__.__name__} was fitted without\"\n",
            "/usr/local/lib/python3.7/dist-packages/sklearn/base.py:444: UserWarning: X has feature names, but KNeighborsClassifier was fitted without feature names\n",
            "  f\"X has feature names, but {self.__class__.__name__} was fitted without\"\n",
            "/usr/local/lib/python3.7/dist-packages/sklearn/base.py:444: UserWarning: X has feature names, but KNeighborsClassifier was fitted without feature names\n",
            "  f\"X has feature names, but {self.__class__.__name__} was fitted without\"\n"
          ]
        }
      ]
    }
  ]
}